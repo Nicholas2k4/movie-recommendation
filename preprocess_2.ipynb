{
 "cells": [
  {
   "cell_type": "code",
   "execution_count": 40,
   "id": "ad0963ad",
   "metadata": {},
   "outputs": [],
   "source": [
    "import pandas as pd\n",
    "import ast"
   ]
  },
  {
   "cell_type": "markdown",
   "id": "4aa5a8b8",
   "metadata": {},
   "source": [
    "# Recleaning Columns"
   ]
  },
  {
   "cell_type": "code",
   "execution_count": 41,
   "id": "6ba9a026",
   "metadata": {},
   "outputs": [],
   "source": [
    "movies_poster_df = pd.read_csv('data/movies_poster.csv')\n",
    "\n",
    "# Drop unused columns\n",
    "movies_poster_df.drop(columns=['original_language', 'popularity'], inplace=True)\n",
    "\n",
    "# Drop rows with missing values\n",
    "movies_poster_df = movies_poster_df[\n",
    "    (~movies_poster_df['overview'].str.strip().isin(['No overview found.', 'No Overview', '']) & movies_poster_df['overview'].notna()) &\n",
    "    (movies_poster_df['poster_url'] != 'https://image.tmdb.org/t/p/original/None') \n",
    "]\n",
    "\n",
    "# Drop duplicates & missing\n",
    "movies_poster_df.drop_duplicates(subset=['imdb_id'], inplace=True)\n",
    "movies_poster_df.drop_duplicates(subset=['title'], inplace=True)\n",
    "movies_poster_df.drop_duplicates(subset=['overview'], inplace=True)\n",
    "movies_poster_df.drop_duplicates(subset=['poster_url'], inplace=True)\n",
    "movies_poster_df.dropna(subset=['poster_url'], inplace=True)"
   ]
  },
  {
   "cell_type": "code",
   "execution_count": 42,
   "id": "b257ec53",
   "metadata": {},
   "outputs": [
    {
     "data": {
      "application/vnd.microsoft.datawrangler.viewer.v0+json": {
       "columns": [
        {
         "name": "index",
         "rawType": "int64",
         "type": "integer"
        },
        {
         "name": "genres",
         "rawType": "object",
         "type": "string"
        },
        {
         "name": "imdb_id",
         "rawType": "object",
         "type": "string"
        },
        {
         "name": "overview",
         "rawType": "object",
         "type": "string"
        },
        {
         "name": "title",
         "rawType": "object",
         "type": "string"
        },
        {
         "name": "vote_average",
         "rawType": "float64",
         "type": "float"
        },
        {
         "name": "poster_url",
         "rawType": "object",
         "type": "string"
        }
       ],
       "ref": "3f7442f1-163d-44b0-8e81-9d5d81c66e2d",
       "rows": [
        [
         "0",
         "[{'id': 16, 'name': 'Animation'}, {'id': 35, 'name': 'Comedy'}, {'id': 10751, 'name': 'Family'}]",
         "tt0114709",
         "Led by Woody, Andy's toys live happily in his room until Andy's birthday brings Buzz Lightyear onto the scene. Afraid of losing his place in Andy's heart, Woody plots against Buzz. But when circumstances separate Buzz and Woody from their owner, the duo eventually learns to put aside their differences.",
         "Toy Story",
         "7.7",
         "https://image.tmdb.org/t/p/original//uXDfjJbdP4ijW5hWSBrPrlKpxab.jpg"
        ],
        [
         "1",
         "[{'id': 12, 'name': 'Adventure'}, {'id': 14, 'name': 'Fantasy'}, {'id': 10751, 'name': 'Family'}]",
         "tt0113497",
         "When siblings Judy and Peter discover an enchanted board game that opens the door to a magical world, they unwittingly invite Alan -- an adult who's been trapped inside the game for 26 years -- into their living room. Alan's only hope for freedom is to finish the game, which proves risky as all three find themselves running from giant rhinoceroses, evil monkeys and other terrifying creatures.",
         "Jumanji",
         "6.9",
         "https://image.tmdb.org/t/p/original//vgpXmVaVyUL7GGiDeiK1mKEKzcX.jpg"
        ],
        [
         "2",
         "[{'id': 10749, 'name': 'Romance'}, {'id': 35, 'name': 'Comedy'}]",
         "tt0113228",
         "A family wedding reignites the ancient feud between next-door neighbors and fishing buddies John and Max. Meanwhile, a sultry Italian divorcée opens a restaurant at the local bait shop, alarming the locals who worry she'll scare the fish away. But she's less interested in seafood than she is in cooking up a hot time with Max.",
         "Grumpier Old Men",
         "6.5",
         "https://image.tmdb.org/t/p/original//1FSXpj5e8l4KH6nVFO5SPUeraOt.jpg"
        ],
        [
         "3",
         "[{'id': 35, 'name': 'Comedy'}, {'id': 18, 'name': 'Drama'}, {'id': 10749, 'name': 'Romance'}]",
         "tt0114885",
         "Cheated on, mistreated and stepped on, the women are holding their breath, waiting for the elusive \"good man\" to break a string of less-than-stellar lovers. Friends and confidants Vannah, Bernie, Glo and Robin talk it all out, determined to find a better way to breathe.",
         "Waiting to Exhale",
         "6.1",
         "https://image.tmdb.org/t/p/original//qJU6rfil5xLVb5HpJsmmfeSK254.jpg"
        ],
        [
         "4",
         "[{'id': 35, 'name': 'Comedy'}]",
         "tt0113041",
         "Just when George Banks has recovered from his daughter's wedding, he receives the news that she's pregnant ... and that George's wife, Nina, is expecting too. He was planning on selling their home, but that's a plan that -- like George -- will have to change with the arrival of both a grandchild and a kid of his own.",
         "Father of the Bride Part II",
         "5.7",
         "https://image.tmdb.org/t/p/original//rj4LBtwQ0uGrpBnCELr716Qo3mw.jpg"
        ],
        [
         "5",
         "[{'id': 28, 'name': 'Action'}, {'id': 80, 'name': 'Crime'}, {'id': 18, 'name': 'Drama'}, {'id': 53, 'name': 'Thriller'}]",
         "tt0113277",
         "Obsessive master thief, Neil McCauley leads a top-notch crew on various insane heists throughout Los Angeles while a mentally unstable detective, Vincent Hanna pursues him without rest. Each man recognizes and respects the ability and the dedication of the other even though they are aware their cat-and-mouse game may end in violence.",
         "Heat",
         "7.7",
         "https://image.tmdb.org/t/p/original//umSVjVdbVwtx5ryCA2QXL44Durm.jpg"
        ],
        [
         "6",
         "[{'id': 35, 'name': 'Comedy'}, {'id': 10749, 'name': 'Romance'}]",
         "tt0114319",
         "An ugly duckling having undergone a remarkable change, still harbors feelings for her crush: a carefree playboy, but not before his business-focused brother has something to say about it.",
         "Sabrina",
         "6.2",
         "https://image.tmdb.org/t/p/original//i8PbLJDPU7vCwwscWD625oHbJy.jpg"
        ],
        [
         "7",
         "[{'id': 28, 'name': 'Action'}, {'id': 12, 'name': 'Adventure'}, {'id': 18, 'name': 'Drama'}, {'id': 10751, 'name': 'Family'}]",
         "tt0112302",
         "A mischievous young boy, Tom Sawyer, witnesses a murder by the deadly Injun Joe. Tom becomes friends with Huckleberry Finn, a boy with no future and no family. Tom has to choose between honoring a friendship or honoring an oath because the town alcoholic is accused of the murder. Tom and Huck go through several adventures trying to retrieve evidence.",
         "Tom and Huck",
         "5.4",
         "https://image.tmdb.org/t/p/original//bMY31ikEOIPOHqQwhPhII8UVBln.jpg"
        ],
        [
         "8",
         "[{'id': 28, 'name': 'Action'}, {'id': 12, 'name': 'Adventure'}, {'id': 53, 'name': 'Thriller'}]",
         "tt0114576",
         "International action superstar Jean Claude Van Damme teams with Powers Boothe in a Tension-packed, suspense thriller, set against the back-drop of a Stanley Cup game.Van Damme portrays a father whose daughter is suddenly taken during a championship hockey game. With the captors demanding a billion dollars by game's end, Van Damme frantically sets a plan in motion to rescue his daughter and abort an impending explosion before the final buzzer...",
         "Sudden Death",
         "5.5",
         "https://image.tmdb.org/t/p/original//1pylO6YX5XdOA6QCc5IRxrrffkg.jpg"
        ],
        [
         "9",
         "[{'id': 12, 'name': 'Adventure'}, {'id': 28, 'name': 'Action'}, {'id': 53, 'name': 'Thriller'}]",
         "tt0113189",
         "James Bond must unmask the mysterious head of the Janus Syndicate and prevent the leader from utilizing the GoldenEye weapons system to inflict devastating revenge on Britain.",
         "GoldenEye",
         "6.6",
         "https://image.tmdb.org/t/p/original//z0ljRnNxIO7CRBhLEO0DvLgAFPR.jpg"
        ],
        [
         "10",
         "[{'id': 35, 'name': 'Comedy'}, {'id': 18, 'name': 'Drama'}, {'id': 10749, 'name': 'Romance'}]",
         "tt0112346",
         "Widowed U.S. president Andrew Shepherd, one of the world's most powerful men, can have anything he wants -- and what he covets most is Sydney Ellen Wade, a Washington lobbyist. But Shepherd's attempts at courting her spark wild rumors and decimate his approval ratings.",
         "The American President",
         "6.5",
         "https://image.tmdb.org/t/p/original//yObOAYFIHXHkFPQ3jhgkN2ezaD.jpg"
        ],
        [
         "11",
         "[{'id': 35, 'name': 'Comedy'}, {'id': 27, 'name': 'Horror'}]",
         "tt0112896",
         "When a lawyer shows up at the vampire's doorstep, he falls prey to his charms and joins him in his search for fresh blood. Enter Dr. van Helsing, who may be the only one able to vanquish the count.",
         "Dracula: Dead and Loving It",
         "5.7",
         "https://image.tmdb.org/t/p/original//fwdXQU3Dbs2CMHu8K87bAxlWV0t.jpg"
        ],
        [
         "12",
         "[{'id': 10751, 'name': 'Family'}, {'id': 16, 'name': 'Animation'}, {'id': 12, 'name': 'Adventure'}]",
         "tt0112453",
         "An outcast half-wolf risks his life to prevent a deadly epidemic from ravaging Nome, Alaska.",
         "Balto",
         "7.1",
         "https://image.tmdb.org/t/p/original//dCVcdb5oxDizqFLz0F7TE60NoC9.jpg"
        ],
        [
         "13",
         "[{'id': 36, 'name': 'History'}, {'id': 18, 'name': 'Drama'}]",
         "tt0113987",
         "An all-star cast powers this epic look at American President Richard M. Nixon, a man carrying the fate of the world on his shoulders while battling the self-destructive demands within. Spanning his troubled boyhood in California to the shocking Watergate scandal that would end his presidency.",
         "Nixon",
         "7.1",
         "https://image.tmdb.org/t/p/original//8O2sBYJq0K0EMpw67cU1PjVJ7w3.jpg"
        ],
        [
         "14",
         "[{'id': 28, 'name': 'Action'}, {'id': 12, 'name': 'Adventure'}]",
         "tt0112760",
         "Morgan Adams and her slave, William Shaw, are on a quest to recover the three portions of a treasure map. Unfortunately, the final portion is held by her murderous uncle, Dawg. Her crew is skeptical of her leadership abilities, so she must complete her quest before they mutiny against her. This is made yet more difficult by the efforts of the British crown to end her pirate raids.",
         "Cutthroat Island",
         "5.7",
         "https://image.tmdb.org/t/p/original//cDYa1i5UzXWztO5ZUp4azv7ycPs.jpg"
        ],
        [
         "15",
         "[{'id': 18, 'name': 'Drama'}, {'id': 80, 'name': 'Crime'}]",
         "tt0112641",
         "The life of the gambling paradise – Las Vegas – and its dark mafia underbelly.",
         "Casino",
         "7.8",
         "https://image.tmdb.org/t/p/original//gziIkUSnYuj9ChCi8qOu2ZunpSC.jpg"
        ],
        [
         "16",
         "[{'id': 18, 'name': 'Drama'}, {'id': 10749, 'name': 'Romance'}]",
         "tt0114388",
         "Rich Mr. Dashwood dies, leaving his second wife and her daughters poor by the rules of inheritance. Two daughters are the titular opposites.",
         "Sense and Sensibility",
         "7.2",
         "https://image.tmdb.org/t/p/original//cBK2yL3HqhFvIVd7lLtazWlRZPR.jpg"
        ],
        [
         "17",
         "[{'id': 80, 'name': 'Crime'}, {'id': 35, 'name': 'Comedy'}]",
         "tt0113101",
         "It's Ted the Bellhop's first night on the job...and the hotel's very unusual guests are about to place him in some outrageous predicaments. It seems that this evening's room service is serving up one unbelievable happening after another.",
         "Four Rooms",
         "6.5",
         "https://image.tmdb.org/t/p/original//75aHn1NOYXh4M7L5shoeQ6NGykP.jpg"
        ],
        [
         "18",
         "[{'id': 80, 'name': 'Crime'}, {'id': 35, 'name': 'Comedy'}, {'id': 12, 'name': 'Adventure'}]",
         "tt0112281",
         "Summoned from an ashram in Tibet, Ace finds himself on a perilous journey into the jungles of Africa to find Shikaka, the missing sacred animal of the friendly Wachati tribe. He must accomplish this before the wedding of the Wachati's Princess to the prince of the warrior Wachootoos. If Ace fails, the result will be a vicious tribal war.",
         "Ace Ventura: When Nature Calls",
         "6.1",
         "https://image.tmdb.org/t/p/original//wcinCf1ov2D6M3P7BBZkzQFOiIb.jpg"
        ],
        [
         "19",
         "[{'id': 28, 'name': 'Action'}, {'id': 35, 'name': 'Comedy'}, {'id': 80, 'name': 'Crime'}]",
         "tt0113845",
         "A vengeful New York transit cop decides to steal a trainload of subway fares; his foster brother, a fellow cop, tries to protect him.",
         "Money Train",
         "5.4",
         "https://image.tmdb.org/t/p/original//jWBDz6Mf9aQVBiUS76JQsEhvoJl.jpg"
        ],
        [
         "20",
         "[{'id': 35, 'name': 'Comedy'}, {'id': 53, 'name': 'Thriller'}, {'id': 80, 'name': 'Crime'}]",
         "tt0113161",
         "Chili Palmer is a Miami mobster who gets sent by his boss, the psychopathic \"Bones\" Barboni, to collect a bad debt from Harry Zimm, a Hollywood producer who specializes in cheesy horror films. When Chili meets Harry's leading lady, the romantic sparks fly. After pitching his own life story as a movie idea, Chili learns that being a mobster and being a Hollywood producer really aren't all that different.",
         "Get Shorty",
         "6.4",
         "https://image.tmdb.org/t/p/original//r82SdPhg4fnIcLt0ogIjQxqjdcO.jpg"
        ],
        [
         "21",
         "[{'id': 18, 'name': 'Drama'}, {'id': 53, 'name': 'Thriller'}]",
         "tt0112722",
         "An agoraphobic psychologist and a female detective must work together to take down a serial killer who copies serial killers from the past.",
         "Copycat",
         "6.5",
         "https://image.tmdb.org/t/p/original//oMgwJb016znNZcpDR20eXxZoW8A.jpg"
        ],
        [
         "22",
         "[{'id': 28, 'name': 'Action'}, {'id': 12, 'name': 'Adventure'}, {'id': 80, 'name': 'Crime'}, {'id': 53, 'name': 'Thriller'}]",
         "tt0112401",
         "Assassin Robert Rath arrives at a funeral to kill a prominent mobster, only to witness a rival hired gun complete the job for him -- with grisly results. Horrified by the murder of innocent bystanders, Rath decides to take one last job and then return to civilian life. But finding his way out of the world of contract killing grows ever more dangerous as Rath falls for his female target and becomes a marked man himself.",
         "Assassins",
         "6.0",
         "https://image.tmdb.org/t/p/original//wPmZYnaQpxwoHmwNwVhZ2IY0UbF.jpg"
        ],
        [
         "23",
         "[{'id': 18, 'name': 'Drama'}, {'id': 14, 'name': 'Fantasy'}, {'id': 878, 'name': 'Science Fiction'}, {'id': 53, 'name': 'Thriller'}]",
         "tt0114168",
         "Harassed by classmates who won't accept his shocking appearance, a shy young man known as \"Powder\" struggles to fit in. But the cruel taunts stop when Powder displays a mysterious power that allows him to do incredible things. This phenomenon changes the lives of all those around him in ways they never could have imagined.",
         "Powder",
         "6.3",
         "https://image.tmdb.org/t/p/original//aQSA63T7zyzZxBZxr2MQaxt1gtO.jpg"
        ],
        [
         "24",
         "[{'id': 18, 'name': 'Drama'}, {'id': 10749, 'name': 'Romance'}]",
         "tt0113627",
         "Ben Sanderson, an alcoholic Hollywood screenwriter who lost everything because of his drinking, arrives in Las Vegas to drink himself to death. There, he meets and forms an uneasy friendship and non-interference pact with prostitute Sera.",
         "Leaving Las Vegas",
         "7.1",
         "https://image.tmdb.org/t/p/original//wTrFpGe3U65kXTldIUxuM2hmOAK.jpg"
        ],
        [
         "25",
         "[{'id': 18, 'name': 'Drama'}]",
         "tt0114057",
         "The evil Iago pretends to be friend of Othello in order to manipulate him to serve his own end in the film version of this Shakespeare classic.",
         "Othello",
         "7.0",
         "https://image.tmdb.org/t/p/original//kyevuYzW36wKadiE8lftLac5VwQ.jpg"
        ],
        [
         "26",
         "[{'id': 35, 'name': 'Comedy'}, {'id': 18, 'name': 'Drama'}, {'id': 10751, 'name': 'Family'}]",
         "tt0114011",
         "Waxing nostalgic about the bittersweet passage from childhood to puberty in this tender coming-of-age tale, four childhood girlfriends -- Teeny, Chrissy, Samantha and Roberta -- recall the magical summer of 1970. During their walk down memory lane, they reconcile experiences with boys, secrets, bullies and more.",
         "Now and Then",
         "6.6",
         "https://image.tmdb.org/t/p/original//q31Ks8oAmM4Nq2CcGjyYYpdBAmh.jpg"
        ],
        [
         "27",
         "[{'id': 18, 'name': 'Drama'}, {'id': 10749, 'name': 'Romance'}]",
         "tt0114117",
         "This film adaptation of Jane Austen's last novel follows Anne Elliot, the daughter of a financially troubled aristocratic family, who is persuaded to break her engagement to Frederick Wentworth, a young sea captain of meager means. Years later, money troubles force Anne's father to rent out the family estate to Admiral Croft, and Anne is again thrown into company with Frederick -- who is now rich, successful and perhaps still in love with Anne.",
         "Persuasion",
         "7.4",
         "https://image.tmdb.org/t/p/original//10hycdhFLq3M3y0ONxIMSiY8Mrs.jpg"
        ],
        [
         "28",
         "[{'id': 14, 'name': 'Fantasy'}, {'id': 878, 'name': 'Science Fiction'}, {'id': 12, 'name': 'Adventure'}]",
         "tt0112682",
         "A scientist in a surrealist society kidnaps children to steal their dreams, hoping that they slow his aging process.",
         "The City of Lost Children",
         "7.6",
         "https://image.tmdb.org/t/p/original//whwT3Q9JxbAYzEc3t7uYYcCbTMf.jpg"
        ],
        [
         "29",
         "[{'id': 18, 'name': 'Drama'}, {'id': 80, 'name': 'Crime'}]",
         "tt0115012",
         "A provincial boy related to a Shanghai crime family is recruited by his uncle into cosmopolitan Shanghai in the 1930s to be a servant to a ganglord's mistress.",
         "Shanghai Triad",
         "6.5",
         "https://image.tmdb.org/t/p/original//tzG1UxUSfPACREjgBrsPDRUvneH.jpg"
        ],
        [
         "30",
         "[{'id': 18, 'name': 'Drama'}, {'id': 80, 'name': 'Crime'}]",
         "tt0112792",
         "Former Marine Louanne Johnson lands a gig teaching in a pilot program for bright but underachieving teens at a notorious inner-city high school. After having a terrible first day, she decides she must throw decorum to the wind. When Johnson returns to the classroom, she does so armed with a no-nonsense attitude informed by her military training and a fearless determination to better the lives of her students -- no matter what the cost.",
         "Dangerous Minds",
         "6.4",
         "https://image.tmdb.org/t/p/original//yWHWC8fJRp2kLgiFrEa8o3krOH9.jpg"
        ],
        [
         "31",
         "[{'id': 878, 'name': 'Science Fiction'}, {'id': 53, 'name': 'Thriller'}, {'id': 9648, 'name': 'Mystery'}]",
         "tt0114746",
         "In the year 2035, convict James Cole reluctantly volunteers to be sent back in time to discover the origin of a deadly virus that wiped out nearly all of the earth's population and forced the survivors into underground communities. But when Cole is mistakenly sent to 1990 instead of 1996, he's arrested and locked up in a mental hospital. There he meets psychiatrist Dr. Kathryn Railly, and patient Jeffrey Goines, the son of a famous virus expert, who may hold the key to the mysterious rogue group, the Army of the 12 Monkeys, thought to be responsible for unleashing the killer disease.",
         "Twelve Monkeys",
         "7.4",
         "https://image.tmdb.org/t/p/original//gt3iyguaCIw8DpQZI1LIN5TohM2.jpg"
        ],
        [
         "32",
         "[{'id': 14, 'name': 'Fantasy'}, {'id': 18, 'name': 'Drama'}, {'id': 35, 'name': 'Comedy'}, {'id': 10751, 'name': 'Family'}]",
         "tt0112431",
         "Babe is a little pig who doesn't quite know his place in the world. With a bunch of odd friends, like Ferdinand the duck who thinks he is a rooster and Fly the dog he calls mom, Babe realizes that he has the makings to become the greatest sheep pig of all time, and Farmer Hogget knows it. With the help of the sheep dogs Babe learns that a pig can be anything that he wants to be.",
         "Babe",
         "6.0",
         "https://image.tmdb.org/t/p/original//zKuQMtnbVTz9DsOnOJmlW71v4qH.jpg"
        ],
        [
         "33",
         "[{'id': 36, 'name': 'History'}, {'id': 18, 'name': 'Drama'}, {'id': 10749, 'name': 'Romance'}]",
         "tt0112637",
         "The story of the relationship between painter Dora Carrington and author Lytton Strachey in a World War One England of cottages and countryside. Although platonic due to Strachey's homosexuality, the relationship was nevertheless a deep and complicated one. When Carrington did develop a more physical relationship with soldier Ralph Partridge, Strachey was able to welcome him as a friend, although Partridge remained somewhat uneasy, not so much with Strachey's lifestyle and sexual orientation as with the fact that he was a conscientious objector.",
         "Carrington",
         "6.4",
         "https://image.tmdb.org/t/p/original//8NmeBTkC4UQa8XT2GGsBN2R8Bqo.jpg"
        ],
        [
         "34",
         "[{'id': 18, 'name': 'Drama'}]",
         "tt0112818",
         "A justice drama based on a true story about a man on death row who in his last days forms a strong relationship with a nun who teaches him forgiveness and gives him spirituality as she accompanies him to his execution. Susan Sarandon won an Oscar for best female actress for her convincing portrayal of Sister Helen Prejean.",
         "Dead Man Walking",
         "7.3",
         "https://image.tmdb.org/t/p/original//eShxyjhWoFl3BwsuEmVsr4nLaMZ.jpg"
        ],
        [
         "35",
         "[{'id': 12, 'name': 'Adventure'}, {'id': 36, 'name': 'History'}, {'id': 18, 'name': 'Drama'}, {'id': 10751, 'name': 'Family'}]",
         "tt0112286",
         "A young Russian boy, Thomas Minton, travels to New York as a passenger on a Russian freighter. Close to Ellis Island he gets off and thus starts his journey to America the same way as all immigrants in former times. Thomas is searching for the family of one of his ancestors, who had emigrated decades ago, but once sent a letter home together with a sample of his new profession: 3D-Photography. The boy follows his relative's traces by counter-checking the old 3D-Photographs of New York (using an antique viewer) with the same places and how they look today. This way, the audience gets to see the Big Apple in former times as well as today.",
         "Across the Sea of Time",
         "3.5",
         "https://image.tmdb.org/t/p/original//iP0bT4f4BTAZ6fWKgLmd4lNeJ2H.jpg"
        ],
        [
         "36",
         "[{'id': 35, 'name': 'Comedy'}, {'id': 10751, 'name': 'Family'}, {'id': 10749, 'name': 'Romance'}]",
         "tt0113442",
         "Identical 9-year-olds from very different backgrounds: orphaned Amanda and wealthy Alyssa meet at summer camp and decide to switch places -- and play matchmaker between Alyssa's dad, Roger, and the kind social worker who cares for Amanda.",
         "It Takes Two",
         "6.1",
         "https://image.tmdb.org/t/p/original//4CptjFLiIJXtjc3dykS7vkEHMbw.jpg"
        ],
        [
         "37",
         "[{'id': 35, 'name': 'Comedy'}, {'id': 18, 'name': 'Drama'}, {'id': 10749, 'name': 'Romance'}]",
         "tt0112697",
         "Shallow, rich and socially successful Cher is at the top of her Beverly Hills high school's pecking scale. Seeing herself as a matchmaker, Cher first coaxes two teachers into dating each other. Emboldened by her success, she decides to give hopelessly klutzy new student Tai a makeover. When Tai becomes more popular than she is, Cher realizes that her disapproving ex-stepbrother was right about how misguided she was -- and falls for him.",
         "Clueless",
         "6.9",
         "https://image.tmdb.org/t/p/original//8AwVTcgpTnmeOs4TdTWqcFDXEsA.jpg"
        ],
        [
         "38",
         "[{'id': 18, 'name': 'Drama'}]",
         "tt0112749",
         "A South-African preacher goes to search for his wayward son who has committed a crime in the big city.",
         "Cry, the Beloved Country",
         "6.7",
         "https://image.tmdb.org/t/p/original//96TZr6o4kuiIEryC5jkzaQoP6m5.jpg"
        ],
        [
         "39",
         "[{'id': 18, 'name': 'Drama'}, {'id': 10752, 'name': 'War'}]",
         "tt0114279",
         "Shakespeare's Play transplanted into a 1930s setting.",
         "Richard III",
         "6.9",
         "https://image.tmdb.org/t/p/original//aN2BcIH6rvGbYiRQCS8lxOdeeVQ.jpg"
        ],
        [
         "40",
         "[{'id': 28, 'name': 'Action'}, {'id': 80, 'name': 'Crime'}, {'id': 18, 'name': 'Drama'}, {'id': 36, 'name': 'History'}]",
         "tt0112819",
         "Depicts a heist of old bills, retired from circulation and destined by the government to be \"money to burn\". However, more broadly, it addresses the issues of Black Americans' involvement in the Vietnam War and their subsequent disillusionment with progress in social issues and civil rights back home in the United States, during the 1960s.",
         "Dead Presidents",
         "6.6",
         "https://image.tmdb.org/t/p/original//wRLepMZoUCwjLFb1WSbuUT6uVWR.jpg"
        ],
        [
         "41",
         "[{'id': 18, 'name': 'Drama'}, {'id': 10749, 'name': 'Romance'}]",
         "tt0114272",
         "An aspiring young physician, Robert Merivel found himself in the service of King Charles II and saves the life of someone close to the King. Merivel joins the King's court and lives the high life provided to someone of his position. Merivel is ordered to marry his King's mistress in order to divert the queens suspicions. He is given one order by the king and that is not to fall in love. The situation worsens when Merivel finds himself in love with his new wife. Eventually, the King finds out and relieves Merivel of his position and wealth. His fall from grace leaves Merivel where he first started. And through his travels and reunions with an old friend, he rediscovers his love for true medicine and what it really means to be a physician.",
         "Restoration",
         "6.3",
         "https://image.tmdb.org/t/p/original//z1YM3WFZnF2NwHT5IRGYUcvZBSl.jpg"
        ],
        [
         "42",
         "[{'id': 28, 'name': 'Action'}, {'id': 14, 'name': 'Fantasy'}]",
         "tt0113855",
         "For nine generations an evil sorcerer has been victorious in hand-to-hand battle against his mortal enemies. If he wins a tenth Mortal Kombat tournament, desolation and evil will reign over the multiverse forever. To save Earth, three warriors must overcome seemingly insurmountable odds, their own inner demons, and superhuman foes in this action/adventure movie based on one of the most popular video games of all time.",
         "Mortal Kombat",
         "5.4",
         "https://image.tmdb.org/t/p/original//fcK7tzSSXMYiMN8E9KlZJL1BYyp.jpg"
        ],
        [
         "43",
         "[{'id': 14, 'name': 'Fantasy'}, {'id': 18, 'name': 'Drama'}, {'id': 35, 'name': 'Comedy'}, {'id': 53, 'name': 'Thriller'}]",
         "tt0114681",
         "Susan wants to work in television and will therefore do anything it takes, even if it means killing her husband. A very dark comedy from independent director Gus Van Sant with a brilliant Nicole Kidman in the leading role.",
         "To Die For",
         "6.7",
         "https://image.tmdb.org/t/p/original//whz4bwvqE1OmQHIyqHdZD8jU9CO.jpg"
        ],
        [
         "44",
         "[{'id': 18, 'name': 'Drama'}, {'id': 10749, 'name': 'Romance'}]",
         "tt0113347",
         "Soon-to-be-wed graduate student Finn Dodd develops cold feet when she suspects her fiancé is cheating on her. In order to clear her head, Finn visits her grandmother, Hy, and great aunt, Glady Joe Cleary, in Grasse, Calif. There, Finn learns that Hy and Glady Joe are members of a group of passionate quilters, and over the course of her visit she is regaled with tales of love and life by women who have collected rich experiences and much wisdom.",
         "How To Make An American Quilt",
         "6.5",
         "https://image.tmdb.org/t/p/original//pI9UAemlWgdrnjRgYJsbTk8BSJc.jpg"
        ],
        [
         "45",
         "[{'id': 80, 'name': 'Crime'}, {'id': 9648, 'name': 'Mystery'}, {'id': 53, 'name': 'Thriller'}]",
         "tt0114369",
         "Two homicide detectives are on a desperate hunt for a serial killer whose crimes are based on the \"seven deadly sins\" in this dark and haunting film that takes viewers from the tortured remains of one victim to the next. The seasoned Det. Sommerset researches each sin in an effort to get inside the killer's mind, while his novice partner, Mills, scoffs at his efforts to unravel the case.",
         "Se7en",
         "8.1",
         "https://image.tmdb.org/t/p/original//191nKfP0ehp3uIvWqgPbFmI4lv9.jpg"
        ],
        [
         "46",
         "[{'id': 12, 'name': 'Adventure'}, {'id': 16, 'name': 'Animation'}, {'id': 18, 'name': 'Drama'}, {'id': 10751, 'name': 'Family'}]",
         "tt0114148",
         "History comes gloriously to life in Disney's epic animated tale about love and adventure in the New World. Pocahontas is a Native American woman whose father has arranged for her to marry her village's best warrior. But a vision tells her change is coming, and soon she comes face to face with it in the form of Capt. John Smith.",
         "Pocahontas",
         "6.7",
         "https://image.tmdb.org/t/p/original//kZ1ft0QZ4e3zDUPMBftEkwI9ftd.jpg"
        ],
        [
         "47",
         "[{'id': 18, 'name': 'Drama'}, {'id': 10749, 'name': 'Romance'}]",
         "tt0114916",
         "A prudish woman, working on tenure as a literacy professor at a large urban university, finds herself strangely attracted to a free-spirited, liberal woman whom works at a local carnival which comes to town.",
         "When Night Is Falling",
         "5.9",
         "https://image.tmdb.org/t/p/original//6Ac5GLwJ01uli5mCXqXwquR36Y1.jpg"
        ],
        [
         "48",
         "[{'id': 18, 'name': 'Drama'}, {'id': 80, 'name': 'Crime'}, {'id': 53, 'name': 'Thriller'}]",
         "tt0114814",
         "Held in an L.A. interrogation room, Verbal Kint attempts to convince the feds that a mythic crime lord, Keyser Soze, not only exists, but was also responsible for drawing him and his four partners into a multi-million dollar heist that ended with an explosion in San Pedro harbor – leaving few survivors. Verbal lures his interrogators with an incredible story of the crime lord's almost supernatural prowess.",
         "The Usual Suspects",
         "8.1",
         "https://image.tmdb.org/t/p/original//rWbsxdwF9qQzpTPCLmDfVnVqTK1.jpg"
        ],
        [
         "49",
         "[{'id': 28, 'name': 'Action'}, {'id': 53, 'name': 'Thriller'}, {'id': 18, 'name': 'Drama'}]",
         "tt0109950",
         "Detective - turned - bodyguard Cynthia McKay (Cynthia Rothrock) is hired by a psychotic icy seductress, Nina Lindell (Lydie Denier), the same woman who killed Mckay's lover months earlier.  With vendetta in her heart McKay accompanies the flamboyantly playful womanizer through the glamourous world of the super-rich as his protector.  In a unique role reversal, it is the woman protecting the man from another woman, erupting into a deadly triangle of passion, suspense and action.",
         "Guardian Angel",
         "6.3",
         "https://image.tmdb.org/t/p/original//AoRBM85EbRY9U0jtgy88DtV99Jl.jpg"
        ]
       ],
       "shape": {
        "columns": 6,
        "rows": 40643
       }
      },
      "text/html": [
       "<div>\n",
       "<style scoped>\n",
       "    .dataframe tbody tr th:only-of-type {\n",
       "        vertical-align: middle;\n",
       "    }\n",
       "\n",
       "    .dataframe tbody tr th {\n",
       "        vertical-align: top;\n",
       "    }\n",
       "\n",
       "    .dataframe thead th {\n",
       "        text-align: right;\n",
       "    }\n",
       "</style>\n",
       "<table border=\"1\" class=\"dataframe\">\n",
       "  <thead>\n",
       "    <tr style=\"text-align: right;\">\n",
       "      <th></th>\n",
       "      <th>genres</th>\n",
       "      <th>imdb_id</th>\n",
       "      <th>overview</th>\n",
       "      <th>title</th>\n",
       "      <th>vote_average</th>\n",
       "      <th>poster_url</th>\n",
       "    </tr>\n",
       "  </thead>\n",
       "  <tbody>\n",
       "    <tr>\n",
       "      <th>0</th>\n",
       "      <td>[{'id': 16, 'name': 'Animation'}, {'id': 35, '...</td>\n",
       "      <td>tt0114709</td>\n",
       "      <td>Led by Woody, Andy's toys live happily in his ...</td>\n",
       "      <td>Toy Story</td>\n",
       "      <td>7.7</td>\n",
       "      <td>https://image.tmdb.org/t/p/original//uXDfjJbdP...</td>\n",
       "    </tr>\n",
       "    <tr>\n",
       "      <th>1</th>\n",
       "      <td>[{'id': 12, 'name': 'Adventure'}, {'id': 14, '...</td>\n",
       "      <td>tt0113497</td>\n",
       "      <td>When siblings Judy and Peter discover an encha...</td>\n",
       "      <td>Jumanji</td>\n",
       "      <td>6.9</td>\n",
       "      <td>https://image.tmdb.org/t/p/original//vgpXmVaVy...</td>\n",
       "    </tr>\n",
       "    <tr>\n",
       "      <th>2</th>\n",
       "      <td>[{'id': 10749, 'name': 'Romance'}, {'id': 35, ...</td>\n",
       "      <td>tt0113228</td>\n",
       "      <td>A family wedding reignites the ancient feud be...</td>\n",
       "      <td>Grumpier Old Men</td>\n",
       "      <td>6.5</td>\n",
       "      <td>https://image.tmdb.org/t/p/original//1FSXpj5e8...</td>\n",
       "    </tr>\n",
       "    <tr>\n",
       "      <th>3</th>\n",
       "      <td>[{'id': 35, 'name': 'Comedy'}, {'id': 18, 'nam...</td>\n",
       "      <td>tt0114885</td>\n",
       "      <td>Cheated on, mistreated and stepped on, the wom...</td>\n",
       "      <td>Waiting to Exhale</td>\n",
       "      <td>6.1</td>\n",
       "      <td>https://image.tmdb.org/t/p/original//qJU6rfil5...</td>\n",
       "    </tr>\n",
       "    <tr>\n",
       "      <th>4</th>\n",
       "      <td>[{'id': 35, 'name': 'Comedy'}]</td>\n",
       "      <td>tt0113041</td>\n",
       "      <td>Just when George Banks has recovered from his ...</td>\n",
       "      <td>Father of the Bride Part II</td>\n",
       "      <td>5.7</td>\n",
       "      <td>https://image.tmdb.org/t/p/original//rj4LBtwQ0...</td>\n",
       "    </tr>\n",
       "    <tr>\n",
       "      <th>...</th>\n",
       "      <td>...</td>\n",
       "      <td>...</td>\n",
       "      <td>...</td>\n",
       "      <td>...</td>\n",
       "      <td>...</td>\n",
       "      <td>...</td>\n",
       "    </tr>\n",
       "    <tr>\n",
       "      <th>44484</th>\n",
       "      <td>[{'id': 878, 'name': 'Science Fiction'}]</td>\n",
       "      <td>tt0112613</td>\n",
       "      <td>It's the year 3000 AD. The world's most danger...</td>\n",
       "      <td>Caged Heat 3000</td>\n",
       "      <td>3.5</td>\n",
       "      <td>https://image.tmdb.org/t/p/original//un9pLM0Ku...</td>\n",
       "    </tr>\n",
       "    <tr>\n",
       "      <th>44486</th>\n",
       "      <td>[{'id': 18, 'name': 'Drama'}, {'id': 10751, 'n...</td>\n",
       "      <td>tt6209470</td>\n",
       "      <td>Rising and falling between a man and woman.</td>\n",
       "      <td>Subdue</td>\n",
       "      <td>4.0</td>\n",
       "      <td>https://image.tmdb.org/t/p/original//cp6OyeDkP...</td>\n",
       "    </tr>\n",
       "    <tr>\n",
       "      <th>44487</th>\n",
       "      <td>[{'id': 18, 'name': 'Drama'}]</td>\n",
       "      <td>tt2028550</td>\n",
       "      <td>An artist struggles to finish his work while a...</td>\n",
       "      <td>Century of Birthing</td>\n",
       "      <td>9.0</td>\n",
       "      <td>https://image.tmdb.org/t/p/original//5RuNHleRz...</td>\n",
       "    </tr>\n",
       "    <tr>\n",
       "      <th>44489</th>\n",
       "      <td>[]</td>\n",
       "      <td>tt0008536</td>\n",
       "      <td>In a small town live two brothers, one a minis...</td>\n",
       "      <td>Satan Triumphant</td>\n",
       "      <td>0.0</td>\n",
       "      <td>https://image.tmdb.org/t/p/original//kmPJ4iJn3...</td>\n",
       "    </tr>\n",
       "    <tr>\n",
       "      <th>44490</th>\n",
       "      <td>[]</td>\n",
       "      <td>tt6980792</td>\n",
       "      <td>50 years after decriminalisation of homosexual...</td>\n",
       "      <td>Queerama</td>\n",
       "      <td>0.0</td>\n",
       "      <td>https://image.tmdb.org/t/p/original//oxFEU4WOM...</td>\n",
       "    </tr>\n",
       "  </tbody>\n",
       "</table>\n",
       "<p>40643 rows × 6 columns</p>\n",
       "</div>"
      ],
      "text/plain": [
       "                                                  genres    imdb_id  \\\n",
       "0      [{'id': 16, 'name': 'Animation'}, {'id': 35, '...  tt0114709   \n",
       "1      [{'id': 12, 'name': 'Adventure'}, {'id': 14, '...  tt0113497   \n",
       "2      [{'id': 10749, 'name': 'Romance'}, {'id': 35, ...  tt0113228   \n",
       "3      [{'id': 35, 'name': 'Comedy'}, {'id': 18, 'nam...  tt0114885   \n",
       "4                         [{'id': 35, 'name': 'Comedy'}]  tt0113041   \n",
       "...                                                  ...        ...   \n",
       "44484           [{'id': 878, 'name': 'Science Fiction'}]  tt0112613   \n",
       "44486  [{'id': 18, 'name': 'Drama'}, {'id': 10751, 'n...  tt6209470   \n",
       "44487                      [{'id': 18, 'name': 'Drama'}]  tt2028550   \n",
       "44489                                                 []  tt0008536   \n",
       "44490                                                 []  tt6980792   \n",
       "\n",
       "                                                overview  \\\n",
       "0      Led by Woody, Andy's toys live happily in his ...   \n",
       "1      When siblings Judy and Peter discover an encha...   \n",
       "2      A family wedding reignites the ancient feud be...   \n",
       "3      Cheated on, mistreated and stepped on, the wom...   \n",
       "4      Just when George Banks has recovered from his ...   \n",
       "...                                                  ...   \n",
       "44484  It's the year 3000 AD. The world's most danger...   \n",
       "44486        Rising and falling between a man and woman.   \n",
       "44487  An artist struggles to finish his work while a...   \n",
       "44489  In a small town live two brothers, one a minis...   \n",
       "44490  50 years after decriminalisation of homosexual...   \n",
       "\n",
       "                             title  vote_average  \\\n",
       "0                        Toy Story           7.7   \n",
       "1                          Jumanji           6.9   \n",
       "2                 Grumpier Old Men           6.5   \n",
       "3                Waiting to Exhale           6.1   \n",
       "4      Father of the Bride Part II           5.7   \n",
       "...                            ...           ...   \n",
       "44484              Caged Heat 3000           3.5   \n",
       "44486                       Subdue           4.0   \n",
       "44487          Century of Birthing           9.0   \n",
       "44489             Satan Triumphant           0.0   \n",
       "44490                     Queerama           0.0   \n",
       "\n",
       "                                              poster_url  \n",
       "0      https://image.tmdb.org/t/p/original//uXDfjJbdP...  \n",
       "1      https://image.tmdb.org/t/p/original//vgpXmVaVy...  \n",
       "2      https://image.tmdb.org/t/p/original//1FSXpj5e8...  \n",
       "3      https://image.tmdb.org/t/p/original//qJU6rfil5...  \n",
       "4      https://image.tmdb.org/t/p/original//rj4LBtwQ0...  \n",
       "...                                                  ...  \n",
       "44484  https://image.tmdb.org/t/p/original//un9pLM0Ku...  \n",
       "44486  https://image.tmdb.org/t/p/original//cp6OyeDkP...  \n",
       "44487  https://image.tmdb.org/t/p/original//5RuNHleRz...  \n",
       "44489  https://image.tmdb.org/t/p/original//kmPJ4iJn3...  \n",
       "44490  https://image.tmdb.org/t/p/original//oxFEU4WOM...  \n",
       "\n",
       "[40643 rows x 6 columns]"
      ]
     },
     "execution_count": 42,
     "metadata": {},
     "output_type": "execute_result"
    }
   ],
   "source": [
    "movies_poster_df"
   ]
  },
  {
   "cell_type": "markdown",
   "id": "070102a6",
   "metadata": {},
   "source": [
    "# Tidy genres Column"
   ]
  },
  {
   "cell_type": "code",
   "execution_count": null,
   "id": "14a9402e",
   "metadata": {},
   "outputs": [],
   "source": [
    "def parse_and_extract(val):\n",
    "    val = ast.literal_eval(val)\n",
    "    return [d.get(\"name\") for d in val if isinstance(d, dict)]"
   ]
  },
  {
   "cell_type": "code",
   "execution_count": 44,
   "id": "c6dba778",
   "metadata": {},
   "outputs": [],
   "source": [
    "movies_poster_df[\"genres\"] = movies_poster_df[\"genres\"].apply(parse_and_extract)"
   ]
  },
  {
   "cell_type": "code",
   "execution_count": 45,
   "id": "3715560d",
   "metadata": {},
   "outputs": [
    {
     "data": {
      "application/vnd.microsoft.datawrangler.viewer.v0+json": {
       "columns": [
        {
         "name": "index",
         "rawType": "int64",
         "type": "integer"
        },
        {
         "name": "genres",
         "rawType": "object",
         "type": "unknown"
        },
        {
         "name": "imdb_id",
         "rawType": "object",
         "type": "string"
        },
        {
         "name": "overview",
         "rawType": "object",
         "type": "string"
        },
        {
         "name": "title",
         "rawType": "object",
         "type": "string"
        },
        {
         "name": "vote_average",
         "rawType": "float64",
         "type": "float"
        },
        {
         "name": "poster_url",
         "rawType": "object",
         "type": "string"
        }
       ],
       "ref": "749aad56-1ada-4851-97d4-165ba806d039",
       "rows": [
        [
         "0",
         "['Animation', 'Comedy', 'Family']",
         "tt0114709",
         "Led by Woody, Andy's toys live happily in his room until Andy's birthday brings Buzz Lightyear onto the scene. Afraid of losing his place in Andy's heart, Woody plots against Buzz. But when circumstances separate Buzz and Woody from their owner, the duo eventually learns to put aside their differences.",
         "Toy Story",
         "7.7",
         "https://image.tmdb.org/t/p/original//uXDfjJbdP4ijW5hWSBrPrlKpxab.jpg"
        ],
        [
         "1",
         "['Adventure', 'Fantasy', 'Family']",
         "tt0113497",
         "When siblings Judy and Peter discover an enchanted board game that opens the door to a magical world, they unwittingly invite Alan -- an adult who's been trapped inside the game for 26 years -- into their living room. Alan's only hope for freedom is to finish the game, which proves risky as all three find themselves running from giant rhinoceroses, evil monkeys and other terrifying creatures.",
         "Jumanji",
         "6.9",
         "https://image.tmdb.org/t/p/original//vgpXmVaVyUL7GGiDeiK1mKEKzcX.jpg"
        ],
        [
         "2",
         "['Romance', 'Comedy']",
         "tt0113228",
         "A family wedding reignites the ancient feud between next-door neighbors and fishing buddies John and Max. Meanwhile, a sultry Italian divorcée opens a restaurant at the local bait shop, alarming the locals who worry she'll scare the fish away. But she's less interested in seafood than she is in cooking up a hot time with Max.",
         "Grumpier Old Men",
         "6.5",
         "https://image.tmdb.org/t/p/original//1FSXpj5e8l4KH6nVFO5SPUeraOt.jpg"
        ],
        [
         "3",
         "['Comedy', 'Drama', 'Romance']",
         "tt0114885",
         "Cheated on, mistreated and stepped on, the women are holding their breath, waiting for the elusive \"good man\" to break a string of less-than-stellar lovers. Friends and confidants Vannah, Bernie, Glo and Robin talk it all out, determined to find a better way to breathe.",
         "Waiting to Exhale",
         "6.1",
         "https://image.tmdb.org/t/p/original//qJU6rfil5xLVb5HpJsmmfeSK254.jpg"
        ],
        [
         "4",
         "['Comedy']",
         "tt0113041",
         "Just when George Banks has recovered from his daughter's wedding, he receives the news that she's pregnant ... and that George's wife, Nina, is expecting too. He was planning on selling their home, but that's a plan that -- like George -- will have to change with the arrival of both a grandchild and a kid of his own.",
         "Father of the Bride Part II",
         "5.7",
         "https://image.tmdb.org/t/p/original//rj4LBtwQ0uGrpBnCELr716Qo3mw.jpg"
        ],
        [
         "5",
         "['Action', 'Crime', 'Drama', 'Thriller']",
         "tt0113277",
         "Obsessive master thief, Neil McCauley leads a top-notch crew on various insane heists throughout Los Angeles while a mentally unstable detective, Vincent Hanna pursues him without rest. Each man recognizes and respects the ability and the dedication of the other even though they are aware their cat-and-mouse game may end in violence.",
         "Heat",
         "7.7",
         "https://image.tmdb.org/t/p/original//umSVjVdbVwtx5ryCA2QXL44Durm.jpg"
        ],
        [
         "6",
         "['Comedy', 'Romance']",
         "tt0114319",
         "An ugly duckling having undergone a remarkable change, still harbors feelings for her crush: a carefree playboy, but not before his business-focused brother has something to say about it.",
         "Sabrina",
         "6.2",
         "https://image.tmdb.org/t/p/original//i8PbLJDPU7vCwwscWD625oHbJy.jpg"
        ],
        [
         "7",
         "['Action', 'Adventure', 'Drama', 'Family']",
         "tt0112302",
         "A mischievous young boy, Tom Sawyer, witnesses a murder by the deadly Injun Joe. Tom becomes friends with Huckleberry Finn, a boy with no future and no family. Tom has to choose between honoring a friendship or honoring an oath because the town alcoholic is accused of the murder. Tom and Huck go through several adventures trying to retrieve evidence.",
         "Tom and Huck",
         "5.4",
         "https://image.tmdb.org/t/p/original//bMY31ikEOIPOHqQwhPhII8UVBln.jpg"
        ],
        [
         "8",
         "['Action', 'Adventure', 'Thriller']",
         "tt0114576",
         "International action superstar Jean Claude Van Damme teams with Powers Boothe in a Tension-packed, suspense thriller, set against the back-drop of a Stanley Cup game.Van Damme portrays a father whose daughter is suddenly taken during a championship hockey game. With the captors demanding a billion dollars by game's end, Van Damme frantically sets a plan in motion to rescue his daughter and abort an impending explosion before the final buzzer...",
         "Sudden Death",
         "5.5",
         "https://image.tmdb.org/t/p/original//1pylO6YX5XdOA6QCc5IRxrrffkg.jpg"
        ],
        [
         "9",
         "['Adventure', 'Action', 'Thriller']",
         "tt0113189",
         "James Bond must unmask the mysterious head of the Janus Syndicate and prevent the leader from utilizing the GoldenEye weapons system to inflict devastating revenge on Britain.",
         "GoldenEye",
         "6.6",
         "https://image.tmdb.org/t/p/original//z0ljRnNxIO7CRBhLEO0DvLgAFPR.jpg"
        ],
        [
         "10",
         "['Comedy', 'Drama', 'Romance']",
         "tt0112346",
         "Widowed U.S. president Andrew Shepherd, one of the world's most powerful men, can have anything he wants -- and what he covets most is Sydney Ellen Wade, a Washington lobbyist. But Shepherd's attempts at courting her spark wild rumors and decimate his approval ratings.",
         "The American President",
         "6.5",
         "https://image.tmdb.org/t/p/original//yObOAYFIHXHkFPQ3jhgkN2ezaD.jpg"
        ],
        [
         "11",
         "['Comedy', 'Horror']",
         "tt0112896",
         "When a lawyer shows up at the vampire's doorstep, he falls prey to his charms and joins him in his search for fresh blood. Enter Dr. van Helsing, who may be the only one able to vanquish the count.",
         "Dracula: Dead and Loving It",
         "5.7",
         "https://image.tmdb.org/t/p/original//fwdXQU3Dbs2CMHu8K87bAxlWV0t.jpg"
        ],
        [
         "12",
         "['Family', 'Animation', 'Adventure']",
         "tt0112453",
         "An outcast half-wolf risks his life to prevent a deadly epidemic from ravaging Nome, Alaska.",
         "Balto",
         "7.1",
         "https://image.tmdb.org/t/p/original//dCVcdb5oxDizqFLz0F7TE60NoC9.jpg"
        ],
        [
         "13",
         "['History', 'Drama']",
         "tt0113987",
         "An all-star cast powers this epic look at American President Richard M. Nixon, a man carrying the fate of the world on his shoulders while battling the self-destructive demands within. Spanning his troubled boyhood in California to the shocking Watergate scandal that would end his presidency.",
         "Nixon",
         "7.1",
         "https://image.tmdb.org/t/p/original//8O2sBYJq0K0EMpw67cU1PjVJ7w3.jpg"
        ],
        [
         "14",
         "['Action', 'Adventure']",
         "tt0112760",
         "Morgan Adams and her slave, William Shaw, are on a quest to recover the three portions of a treasure map. Unfortunately, the final portion is held by her murderous uncle, Dawg. Her crew is skeptical of her leadership abilities, so she must complete her quest before they mutiny against her. This is made yet more difficult by the efforts of the British crown to end her pirate raids.",
         "Cutthroat Island",
         "5.7",
         "https://image.tmdb.org/t/p/original//cDYa1i5UzXWztO5ZUp4azv7ycPs.jpg"
        ],
        [
         "15",
         "['Drama', 'Crime']",
         "tt0112641",
         "The life of the gambling paradise – Las Vegas – and its dark mafia underbelly.",
         "Casino",
         "7.8",
         "https://image.tmdb.org/t/p/original//gziIkUSnYuj9ChCi8qOu2ZunpSC.jpg"
        ],
        [
         "16",
         "['Drama', 'Romance']",
         "tt0114388",
         "Rich Mr. Dashwood dies, leaving his second wife and her daughters poor by the rules of inheritance. Two daughters are the titular opposites.",
         "Sense and Sensibility",
         "7.2",
         "https://image.tmdb.org/t/p/original//cBK2yL3HqhFvIVd7lLtazWlRZPR.jpg"
        ],
        [
         "17",
         "['Crime', 'Comedy']",
         "tt0113101",
         "It's Ted the Bellhop's first night on the job...and the hotel's very unusual guests are about to place him in some outrageous predicaments. It seems that this evening's room service is serving up one unbelievable happening after another.",
         "Four Rooms",
         "6.5",
         "https://image.tmdb.org/t/p/original//75aHn1NOYXh4M7L5shoeQ6NGykP.jpg"
        ],
        [
         "18",
         "['Crime', 'Comedy', 'Adventure']",
         "tt0112281",
         "Summoned from an ashram in Tibet, Ace finds himself on a perilous journey into the jungles of Africa to find Shikaka, the missing sacred animal of the friendly Wachati tribe. He must accomplish this before the wedding of the Wachati's Princess to the prince of the warrior Wachootoos. If Ace fails, the result will be a vicious tribal war.",
         "Ace Ventura: When Nature Calls",
         "6.1",
         "https://image.tmdb.org/t/p/original//wcinCf1ov2D6M3P7BBZkzQFOiIb.jpg"
        ],
        [
         "19",
         "['Action', 'Comedy', 'Crime']",
         "tt0113845",
         "A vengeful New York transit cop decides to steal a trainload of subway fares; his foster brother, a fellow cop, tries to protect him.",
         "Money Train",
         "5.4",
         "https://image.tmdb.org/t/p/original//jWBDz6Mf9aQVBiUS76JQsEhvoJl.jpg"
        ],
        [
         "20",
         "['Comedy', 'Thriller', 'Crime']",
         "tt0113161",
         "Chili Palmer is a Miami mobster who gets sent by his boss, the psychopathic \"Bones\" Barboni, to collect a bad debt from Harry Zimm, a Hollywood producer who specializes in cheesy horror films. When Chili meets Harry's leading lady, the romantic sparks fly. After pitching his own life story as a movie idea, Chili learns that being a mobster and being a Hollywood producer really aren't all that different.",
         "Get Shorty",
         "6.4",
         "https://image.tmdb.org/t/p/original//r82SdPhg4fnIcLt0ogIjQxqjdcO.jpg"
        ],
        [
         "21",
         "['Drama', 'Thriller']",
         "tt0112722",
         "An agoraphobic psychologist and a female detective must work together to take down a serial killer who copies serial killers from the past.",
         "Copycat",
         "6.5",
         "https://image.tmdb.org/t/p/original//oMgwJb016znNZcpDR20eXxZoW8A.jpg"
        ],
        [
         "22",
         "['Action', 'Adventure', 'Crime', 'Thriller']",
         "tt0112401",
         "Assassin Robert Rath arrives at a funeral to kill a prominent mobster, only to witness a rival hired gun complete the job for him -- with grisly results. Horrified by the murder of innocent bystanders, Rath decides to take one last job and then return to civilian life. But finding his way out of the world of contract killing grows ever more dangerous as Rath falls for his female target and becomes a marked man himself.",
         "Assassins",
         "6.0",
         "https://image.tmdb.org/t/p/original//wPmZYnaQpxwoHmwNwVhZ2IY0UbF.jpg"
        ],
        [
         "23",
         "['Drama', 'Fantasy', 'Science Fiction', 'Thriller']",
         "tt0114168",
         "Harassed by classmates who won't accept his shocking appearance, a shy young man known as \"Powder\" struggles to fit in. But the cruel taunts stop when Powder displays a mysterious power that allows him to do incredible things. This phenomenon changes the lives of all those around him in ways they never could have imagined.",
         "Powder",
         "6.3",
         "https://image.tmdb.org/t/p/original//aQSA63T7zyzZxBZxr2MQaxt1gtO.jpg"
        ],
        [
         "24",
         "['Drama', 'Romance']",
         "tt0113627",
         "Ben Sanderson, an alcoholic Hollywood screenwriter who lost everything because of his drinking, arrives in Las Vegas to drink himself to death. There, he meets and forms an uneasy friendship and non-interference pact with prostitute Sera.",
         "Leaving Las Vegas",
         "7.1",
         "https://image.tmdb.org/t/p/original//wTrFpGe3U65kXTldIUxuM2hmOAK.jpg"
        ],
        [
         "25",
         "['Drama']",
         "tt0114057",
         "The evil Iago pretends to be friend of Othello in order to manipulate him to serve his own end in the film version of this Shakespeare classic.",
         "Othello",
         "7.0",
         "https://image.tmdb.org/t/p/original//kyevuYzW36wKadiE8lftLac5VwQ.jpg"
        ],
        [
         "26",
         "['Comedy', 'Drama', 'Family']",
         "tt0114011",
         "Waxing nostalgic about the bittersweet passage from childhood to puberty in this tender coming-of-age tale, four childhood girlfriends -- Teeny, Chrissy, Samantha and Roberta -- recall the magical summer of 1970. During their walk down memory lane, they reconcile experiences with boys, secrets, bullies and more.",
         "Now and Then",
         "6.6",
         "https://image.tmdb.org/t/p/original//q31Ks8oAmM4Nq2CcGjyYYpdBAmh.jpg"
        ],
        [
         "27",
         "['Drama', 'Romance']",
         "tt0114117",
         "This film adaptation of Jane Austen's last novel follows Anne Elliot, the daughter of a financially troubled aristocratic family, who is persuaded to break her engagement to Frederick Wentworth, a young sea captain of meager means. Years later, money troubles force Anne's father to rent out the family estate to Admiral Croft, and Anne is again thrown into company with Frederick -- who is now rich, successful and perhaps still in love with Anne.",
         "Persuasion",
         "7.4",
         "https://image.tmdb.org/t/p/original//10hycdhFLq3M3y0ONxIMSiY8Mrs.jpg"
        ],
        [
         "28",
         "['Fantasy', 'Science Fiction', 'Adventure']",
         "tt0112682",
         "A scientist in a surrealist society kidnaps children to steal their dreams, hoping that they slow his aging process.",
         "The City of Lost Children",
         "7.6",
         "https://image.tmdb.org/t/p/original//whwT3Q9JxbAYzEc3t7uYYcCbTMf.jpg"
        ],
        [
         "29",
         "['Drama', 'Crime']",
         "tt0115012",
         "A provincial boy related to a Shanghai crime family is recruited by his uncle into cosmopolitan Shanghai in the 1930s to be a servant to a ganglord's mistress.",
         "Shanghai Triad",
         "6.5",
         "https://image.tmdb.org/t/p/original//tzG1UxUSfPACREjgBrsPDRUvneH.jpg"
        ],
        [
         "30",
         "['Drama', 'Crime']",
         "tt0112792",
         "Former Marine Louanne Johnson lands a gig teaching in a pilot program for bright but underachieving teens at a notorious inner-city high school. After having a terrible first day, she decides she must throw decorum to the wind. When Johnson returns to the classroom, she does so armed with a no-nonsense attitude informed by her military training and a fearless determination to better the lives of her students -- no matter what the cost.",
         "Dangerous Minds",
         "6.4",
         "https://image.tmdb.org/t/p/original//yWHWC8fJRp2kLgiFrEa8o3krOH9.jpg"
        ],
        [
         "31",
         "['Science Fiction', 'Thriller', 'Mystery']",
         "tt0114746",
         "In the year 2035, convict James Cole reluctantly volunteers to be sent back in time to discover the origin of a deadly virus that wiped out nearly all of the earth's population and forced the survivors into underground communities. But when Cole is mistakenly sent to 1990 instead of 1996, he's arrested and locked up in a mental hospital. There he meets psychiatrist Dr. Kathryn Railly, and patient Jeffrey Goines, the son of a famous virus expert, who may hold the key to the mysterious rogue group, the Army of the 12 Monkeys, thought to be responsible for unleashing the killer disease.",
         "Twelve Monkeys",
         "7.4",
         "https://image.tmdb.org/t/p/original//gt3iyguaCIw8DpQZI1LIN5TohM2.jpg"
        ],
        [
         "32",
         "['Fantasy', 'Drama', 'Comedy', 'Family']",
         "tt0112431",
         "Babe is a little pig who doesn't quite know his place in the world. With a bunch of odd friends, like Ferdinand the duck who thinks he is a rooster and Fly the dog he calls mom, Babe realizes that he has the makings to become the greatest sheep pig of all time, and Farmer Hogget knows it. With the help of the sheep dogs Babe learns that a pig can be anything that he wants to be.",
         "Babe",
         "6.0",
         "https://image.tmdb.org/t/p/original//zKuQMtnbVTz9DsOnOJmlW71v4qH.jpg"
        ],
        [
         "33",
         "['History', 'Drama', 'Romance']",
         "tt0112637",
         "The story of the relationship between painter Dora Carrington and author Lytton Strachey in a World War One England of cottages and countryside. Although platonic due to Strachey's homosexuality, the relationship was nevertheless a deep and complicated one. When Carrington did develop a more physical relationship with soldier Ralph Partridge, Strachey was able to welcome him as a friend, although Partridge remained somewhat uneasy, not so much with Strachey's lifestyle and sexual orientation as with the fact that he was a conscientious objector.",
         "Carrington",
         "6.4",
         "https://image.tmdb.org/t/p/original//8NmeBTkC4UQa8XT2GGsBN2R8Bqo.jpg"
        ],
        [
         "34",
         "['Drama']",
         "tt0112818",
         "A justice drama based on a true story about a man on death row who in his last days forms a strong relationship with a nun who teaches him forgiveness and gives him spirituality as she accompanies him to his execution. Susan Sarandon won an Oscar for best female actress for her convincing portrayal of Sister Helen Prejean.",
         "Dead Man Walking",
         "7.3",
         "https://image.tmdb.org/t/p/original//eShxyjhWoFl3BwsuEmVsr4nLaMZ.jpg"
        ],
        [
         "35",
         "['Adventure', 'History', 'Drama', 'Family']",
         "tt0112286",
         "A young Russian boy, Thomas Minton, travels to New York as a passenger on a Russian freighter. Close to Ellis Island he gets off and thus starts his journey to America the same way as all immigrants in former times. Thomas is searching for the family of one of his ancestors, who had emigrated decades ago, but once sent a letter home together with a sample of his new profession: 3D-Photography. The boy follows his relative's traces by counter-checking the old 3D-Photographs of New York (using an antique viewer) with the same places and how they look today. This way, the audience gets to see the Big Apple in former times as well as today.",
         "Across the Sea of Time",
         "3.5",
         "https://image.tmdb.org/t/p/original//iP0bT4f4BTAZ6fWKgLmd4lNeJ2H.jpg"
        ],
        [
         "36",
         "['Comedy', 'Family', 'Romance']",
         "tt0113442",
         "Identical 9-year-olds from very different backgrounds: orphaned Amanda and wealthy Alyssa meet at summer camp and decide to switch places -- and play matchmaker between Alyssa's dad, Roger, and the kind social worker who cares for Amanda.",
         "It Takes Two",
         "6.1",
         "https://image.tmdb.org/t/p/original//4CptjFLiIJXtjc3dykS7vkEHMbw.jpg"
        ],
        [
         "37",
         "['Comedy', 'Drama', 'Romance']",
         "tt0112697",
         "Shallow, rich and socially successful Cher is at the top of her Beverly Hills high school's pecking scale. Seeing herself as a matchmaker, Cher first coaxes two teachers into dating each other. Emboldened by her success, she decides to give hopelessly klutzy new student Tai a makeover. When Tai becomes more popular than she is, Cher realizes that her disapproving ex-stepbrother was right about how misguided she was -- and falls for him.",
         "Clueless",
         "6.9",
         "https://image.tmdb.org/t/p/original//8AwVTcgpTnmeOs4TdTWqcFDXEsA.jpg"
        ],
        [
         "38",
         "['Drama']",
         "tt0112749",
         "A South-African preacher goes to search for his wayward son who has committed a crime in the big city.",
         "Cry, the Beloved Country",
         "6.7",
         "https://image.tmdb.org/t/p/original//96TZr6o4kuiIEryC5jkzaQoP6m5.jpg"
        ],
        [
         "39",
         "['Drama', 'War']",
         "tt0114279",
         "Shakespeare's Play transplanted into a 1930s setting.",
         "Richard III",
         "6.9",
         "https://image.tmdb.org/t/p/original//aN2BcIH6rvGbYiRQCS8lxOdeeVQ.jpg"
        ],
        [
         "40",
         "['Action', 'Crime', 'Drama', 'History']",
         "tt0112819",
         "Depicts a heist of old bills, retired from circulation and destined by the government to be \"money to burn\". However, more broadly, it addresses the issues of Black Americans' involvement in the Vietnam War and their subsequent disillusionment with progress in social issues and civil rights back home in the United States, during the 1960s.",
         "Dead Presidents",
         "6.6",
         "https://image.tmdb.org/t/p/original//wRLepMZoUCwjLFb1WSbuUT6uVWR.jpg"
        ],
        [
         "41",
         "['Drama', 'Romance']",
         "tt0114272",
         "An aspiring young physician, Robert Merivel found himself in the service of King Charles II and saves the life of someone close to the King. Merivel joins the King's court and lives the high life provided to someone of his position. Merivel is ordered to marry his King's mistress in order to divert the queens suspicions. He is given one order by the king and that is not to fall in love. The situation worsens when Merivel finds himself in love with his new wife. Eventually, the King finds out and relieves Merivel of his position and wealth. His fall from grace leaves Merivel where he first started. And through his travels and reunions with an old friend, he rediscovers his love for true medicine and what it really means to be a physician.",
         "Restoration",
         "6.3",
         "https://image.tmdb.org/t/p/original//z1YM3WFZnF2NwHT5IRGYUcvZBSl.jpg"
        ],
        [
         "42",
         "['Action', 'Fantasy']",
         "tt0113855",
         "For nine generations an evil sorcerer has been victorious in hand-to-hand battle against his mortal enemies. If he wins a tenth Mortal Kombat tournament, desolation and evil will reign over the multiverse forever. To save Earth, three warriors must overcome seemingly insurmountable odds, their own inner demons, and superhuman foes in this action/adventure movie based on one of the most popular video games of all time.",
         "Mortal Kombat",
         "5.4",
         "https://image.tmdb.org/t/p/original//fcK7tzSSXMYiMN8E9KlZJL1BYyp.jpg"
        ],
        [
         "43",
         "['Fantasy', 'Drama', 'Comedy', 'Thriller']",
         "tt0114681",
         "Susan wants to work in television and will therefore do anything it takes, even if it means killing her husband. A very dark comedy from independent director Gus Van Sant with a brilliant Nicole Kidman in the leading role.",
         "To Die For",
         "6.7",
         "https://image.tmdb.org/t/p/original//whz4bwvqE1OmQHIyqHdZD8jU9CO.jpg"
        ],
        [
         "44",
         "['Drama', 'Romance']",
         "tt0113347",
         "Soon-to-be-wed graduate student Finn Dodd develops cold feet when she suspects her fiancé is cheating on her. In order to clear her head, Finn visits her grandmother, Hy, and great aunt, Glady Joe Cleary, in Grasse, Calif. There, Finn learns that Hy and Glady Joe are members of a group of passionate quilters, and over the course of her visit she is regaled with tales of love and life by women who have collected rich experiences and much wisdom.",
         "How To Make An American Quilt",
         "6.5",
         "https://image.tmdb.org/t/p/original//pI9UAemlWgdrnjRgYJsbTk8BSJc.jpg"
        ],
        [
         "45",
         "['Crime', 'Mystery', 'Thriller']",
         "tt0114369",
         "Two homicide detectives are on a desperate hunt for a serial killer whose crimes are based on the \"seven deadly sins\" in this dark and haunting film that takes viewers from the tortured remains of one victim to the next. The seasoned Det. Sommerset researches each sin in an effort to get inside the killer's mind, while his novice partner, Mills, scoffs at his efforts to unravel the case.",
         "Se7en",
         "8.1",
         "https://image.tmdb.org/t/p/original//191nKfP0ehp3uIvWqgPbFmI4lv9.jpg"
        ],
        [
         "46",
         "['Adventure', 'Animation', 'Drama', 'Family']",
         "tt0114148",
         "History comes gloriously to life in Disney's epic animated tale about love and adventure in the New World. Pocahontas is a Native American woman whose father has arranged for her to marry her village's best warrior. But a vision tells her change is coming, and soon she comes face to face with it in the form of Capt. John Smith.",
         "Pocahontas",
         "6.7",
         "https://image.tmdb.org/t/p/original//kZ1ft0QZ4e3zDUPMBftEkwI9ftd.jpg"
        ],
        [
         "47",
         "['Drama', 'Romance']",
         "tt0114916",
         "A prudish woman, working on tenure as a literacy professor at a large urban university, finds herself strangely attracted to a free-spirited, liberal woman whom works at a local carnival which comes to town.",
         "When Night Is Falling",
         "5.9",
         "https://image.tmdb.org/t/p/original//6Ac5GLwJ01uli5mCXqXwquR36Y1.jpg"
        ],
        [
         "48",
         "['Drama', 'Crime', 'Thriller']",
         "tt0114814",
         "Held in an L.A. interrogation room, Verbal Kint attempts to convince the feds that a mythic crime lord, Keyser Soze, not only exists, but was also responsible for drawing him and his four partners into a multi-million dollar heist that ended with an explosion in San Pedro harbor – leaving few survivors. Verbal lures his interrogators with an incredible story of the crime lord's almost supernatural prowess.",
         "The Usual Suspects",
         "8.1",
         "https://image.tmdb.org/t/p/original//rWbsxdwF9qQzpTPCLmDfVnVqTK1.jpg"
        ],
        [
         "49",
         "['Action', 'Thriller', 'Drama']",
         "tt0109950",
         "Detective - turned - bodyguard Cynthia McKay (Cynthia Rothrock) is hired by a psychotic icy seductress, Nina Lindell (Lydie Denier), the same woman who killed Mckay's lover months earlier.  With vendetta in her heart McKay accompanies the flamboyantly playful womanizer through the glamourous world of the super-rich as his protector.  In a unique role reversal, it is the woman protecting the man from another woman, erupting into a deadly triangle of passion, suspense and action.",
         "Guardian Angel",
         "6.3",
         "https://image.tmdb.org/t/p/original//AoRBM85EbRY9U0jtgy88DtV99Jl.jpg"
        ]
       ],
       "shape": {
        "columns": 6,
        "rows": 40643
       }
      },
      "text/html": [
       "<div>\n",
       "<style scoped>\n",
       "    .dataframe tbody tr th:only-of-type {\n",
       "        vertical-align: middle;\n",
       "    }\n",
       "\n",
       "    .dataframe tbody tr th {\n",
       "        vertical-align: top;\n",
       "    }\n",
       "\n",
       "    .dataframe thead th {\n",
       "        text-align: right;\n",
       "    }\n",
       "</style>\n",
       "<table border=\"1\" class=\"dataframe\">\n",
       "  <thead>\n",
       "    <tr style=\"text-align: right;\">\n",
       "      <th></th>\n",
       "      <th>genres</th>\n",
       "      <th>imdb_id</th>\n",
       "      <th>overview</th>\n",
       "      <th>title</th>\n",
       "      <th>vote_average</th>\n",
       "      <th>poster_url</th>\n",
       "    </tr>\n",
       "  </thead>\n",
       "  <tbody>\n",
       "    <tr>\n",
       "      <th>0</th>\n",
       "      <td>[Animation, Comedy, Family]</td>\n",
       "      <td>tt0114709</td>\n",
       "      <td>Led by Woody, Andy's toys live happily in his ...</td>\n",
       "      <td>Toy Story</td>\n",
       "      <td>7.7</td>\n",
       "      <td>https://image.tmdb.org/t/p/original//uXDfjJbdP...</td>\n",
       "    </tr>\n",
       "    <tr>\n",
       "      <th>1</th>\n",
       "      <td>[Adventure, Fantasy, Family]</td>\n",
       "      <td>tt0113497</td>\n",
       "      <td>When siblings Judy and Peter discover an encha...</td>\n",
       "      <td>Jumanji</td>\n",
       "      <td>6.9</td>\n",
       "      <td>https://image.tmdb.org/t/p/original//vgpXmVaVy...</td>\n",
       "    </tr>\n",
       "    <tr>\n",
       "      <th>2</th>\n",
       "      <td>[Romance, Comedy]</td>\n",
       "      <td>tt0113228</td>\n",
       "      <td>A family wedding reignites the ancient feud be...</td>\n",
       "      <td>Grumpier Old Men</td>\n",
       "      <td>6.5</td>\n",
       "      <td>https://image.tmdb.org/t/p/original//1FSXpj5e8...</td>\n",
       "    </tr>\n",
       "    <tr>\n",
       "      <th>3</th>\n",
       "      <td>[Comedy, Drama, Romance]</td>\n",
       "      <td>tt0114885</td>\n",
       "      <td>Cheated on, mistreated and stepped on, the wom...</td>\n",
       "      <td>Waiting to Exhale</td>\n",
       "      <td>6.1</td>\n",
       "      <td>https://image.tmdb.org/t/p/original//qJU6rfil5...</td>\n",
       "    </tr>\n",
       "    <tr>\n",
       "      <th>4</th>\n",
       "      <td>[Comedy]</td>\n",
       "      <td>tt0113041</td>\n",
       "      <td>Just when George Banks has recovered from his ...</td>\n",
       "      <td>Father of the Bride Part II</td>\n",
       "      <td>5.7</td>\n",
       "      <td>https://image.tmdb.org/t/p/original//rj4LBtwQ0...</td>\n",
       "    </tr>\n",
       "    <tr>\n",
       "      <th>...</th>\n",
       "      <td>...</td>\n",
       "      <td>...</td>\n",
       "      <td>...</td>\n",
       "      <td>...</td>\n",
       "      <td>...</td>\n",
       "      <td>...</td>\n",
       "    </tr>\n",
       "    <tr>\n",
       "      <th>44484</th>\n",
       "      <td>[Science Fiction]</td>\n",
       "      <td>tt0112613</td>\n",
       "      <td>It's the year 3000 AD. The world's most danger...</td>\n",
       "      <td>Caged Heat 3000</td>\n",
       "      <td>3.5</td>\n",
       "      <td>https://image.tmdb.org/t/p/original//un9pLM0Ku...</td>\n",
       "    </tr>\n",
       "    <tr>\n",
       "      <th>44486</th>\n",
       "      <td>[Drama, Family]</td>\n",
       "      <td>tt6209470</td>\n",
       "      <td>Rising and falling between a man and woman.</td>\n",
       "      <td>Subdue</td>\n",
       "      <td>4.0</td>\n",
       "      <td>https://image.tmdb.org/t/p/original//cp6OyeDkP...</td>\n",
       "    </tr>\n",
       "    <tr>\n",
       "      <th>44487</th>\n",
       "      <td>[Drama]</td>\n",
       "      <td>tt2028550</td>\n",
       "      <td>An artist struggles to finish his work while a...</td>\n",
       "      <td>Century of Birthing</td>\n",
       "      <td>9.0</td>\n",
       "      <td>https://image.tmdb.org/t/p/original//5RuNHleRz...</td>\n",
       "    </tr>\n",
       "    <tr>\n",
       "      <th>44489</th>\n",
       "      <td>[]</td>\n",
       "      <td>tt0008536</td>\n",
       "      <td>In a small town live two brothers, one a minis...</td>\n",
       "      <td>Satan Triumphant</td>\n",
       "      <td>0.0</td>\n",
       "      <td>https://image.tmdb.org/t/p/original//kmPJ4iJn3...</td>\n",
       "    </tr>\n",
       "    <tr>\n",
       "      <th>44490</th>\n",
       "      <td>[]</td>\n",
       "      <td>tt6980792</td>\n",
       "      <td>50 years after decriminalisation of homosexual...</td>\n",
       "      <td>Queerama</td>\n",
       "      <td>0.0</td>\n",
       "      <td>https://image.tmdb.org/t/p/original//oxFEU4WOM...</td>\n",
       "    </tr>\n",
       "  </tbody>\n",
       "</table>\n",
       "<p>40643 rows × 6 columns</p>\n",
       "</div>"
      ],
      "text/plain": [
       "                             genres    imdb_id  \\\n",
       "0       [Animation, Comedy, Family]  tt0114709   \n",
       "1      [Adventure, Fantasy, Family]  tt0113497   \n",
       "2                 [Romance, Comedy]  tt0113228   \n",
       "3          [Comedy, Drama, Romance]  tt0114885   \n",
       "4                          [Comedy]  tt0113041   \n",
       "...                             ...        ...   \n",
       "44484             [Science Fiction]  tt0112613   \n",
       "44486               [Drama, Family]  tt6209470   \n",
       "44487                       [Drama]  tt2028550   \n",
       "44489                            []  tt0008536   \n",
       "44490                            []  tt6980792   \n",
       "\n",
       "                                                overview  \\\n",
       "0      Led by Woody, Andy's toys live happily in his ...   \n",
       "1      When siblings Judy and Peter discover an encha...   \n",
       "2      A family wedding reignites the ancient feud be...   \n",
       "3      Cheated on, mistreated and stepped on, the wom...   \n",
       "4      Just when George Banks has recovered from his ...   \n",
       "...                                                  ...   \n",
       "44484  It's the year 3000 AD. The world's most danger...   \n",
       "44486        Rising and falling between a man and woman.   \n",
       "44487  An artist struggles to finish his work while a...   \n",
       "44489  In a small town live two brothers, one a minis...   \n",
       "44490  50 years after decriminalisation of homosexual...   \n",
       "\n",
       "                             title  vote_average  \\\n",
       "0                        Toy Story           7.7   \n",
       "1                          Jumanji           6.9   \n",
       "2                 Grumpier Old Men           6.5   \n",
       "3                Waiting to Exhale           6.1   \n",
       "4      Father of the Bride Part II           5.7   \n",
       "...                            ...           ...   \n",
       "44484              Caged Heat 3000           3.5   \n",
       "44486                       Subdue           4.0   \n",
       "44487          Century of Birthing           9.0   \n",
       "44489             Satan Triumphant           0.0   \n",
       "44490                     Queerama           0.0   \n",
       "\n",
       "                                              poster_url  \n",
       "0      https://image.tmdb.org/t/p/original//uXDfjJbdP...  \n",
       "1      https://image.tmdb.org/t/p/original//vgpXmVaVy...  \n",
       "2      https://image.tmdb.org/t/p/original//1FSXpj5e8...  \n",
       "3      https://image.tmdb.org/t/p/original//qJU6rfil5...  \n",
       "4      https://image.tmdb.org/t/p/original//rj4LBtwQ0...  \n",
       "...                                                  ...  \n",
       "44484  https://image.tmdb.org/t/p/original//un9pLM0Ku...  \n",
       "44486  https://image.tmdb.org/t/p/original//cp6OyeDkP...  \n",
       "44487  https://image.tmdb.org/t/p/original//5RuNHleRz...  \n",
       "44489  https://image.tmdb.org/t/p/original//kmPJ4iJn3...  \n",
       "44490  https://image.tmdb.org/t/p/original//oxFEU4WOM...  \n",
       "\n",
       "[40643 rows x 6 columns]"
      ]
     },
     "execution_count": 45,
     "metadata": {},
     "output_type": "execute_result"
    }
   ],
   "source": [
    "movies_poster_df"
   ]
  },
  {
   "cell_type": "code",
   "execution_count": 46,
   "id": "a852c63f",
   "metadata": {},
   "outputs": [],
   "source": [
    "movies_poster_df.to_csv('data/movies_cleaned.csv', index=False)"
   ]
  }
 ],
 "metadata": {
  "kernelspec": {
   "display_name": "Python 3",
   "language": "python",
   "name": "python3"
  },
  "language_info": {
   "codemirror_mode": {
    "name": "ipython",
    "version": 3
   },
   "file_extension": ".py",
   "mimetype": "text/x-python",
   "name": "python",
   "nbconvert_exporter": "python",
   "pygments_lexer": "ipython3",
   "version": "3.12.6"
  }
 },
 "nbformat": 4,
 "nbformat_minor": 5
}
